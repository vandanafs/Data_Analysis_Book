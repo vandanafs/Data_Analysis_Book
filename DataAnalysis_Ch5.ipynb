{
 "cells": [
  {
   "cell_type": "code",
   "execution_count": 1,
   "id": "f7bde473",
   "metadata": {},
   "outputs": [
    {
     "data": {
      "text/plain": [
       "0    1\n",
       "1    2\n",
       "2    3\n",
       "3    4\n",
       "4    5\n",
       "dtype: int64"
      ]
     },
     "execution_count": 1,
     "metadata": {},
     "output_type": "execute_result"
    }
   ],
   "source": [
    "import pandas as pd\n",
    "import numpy as np\n",
    "obj=pd.Series([1,2,3,4,5])  # index it will display\n",
    "obj"
   ]
  },
  {
   "cell_type": "code",
   "execution_count": null,
   "id": "93a8e794",
   "metadata": {},
   "outputs": [],
   "source": []
  },
  {
   "cell_type": "code",
   "execution_count": 2,
   "id": "b45dd6ca",
   "metadata": {},
   "outputs": [
    {
     "data": {
      "text/plain": [
       "array([1, 2, 3, 4, 5])"
      ]
     },
     "execution_count": 2,
     "metadata": {},
     "output_type": "execute_result"
    }
   ],
   "source": [
    "obj.values  # element of that obj"
   ]
  },
  {
   "cell_type": "code",
   "execution_count": null,
   "id": "0d2c22cd",
   "metadata": {},
   "outputs": [],
   "source": [
    "obj.index  # range from which it start, stop and step"
   ]
  },
  {
   "cell_type": "code",
   "execution_count": null,
   "id": "eda882a4",
   "metadata": {},
   "outputs": [],
   "source": []
  },
  {
   "cell_type": "code",
   "execution_count": null,
   "id": "cc7e9c70",
   "metadata": {},
   "outputs": [],
   "source": [
    "s1=pd.Series([1,2,3,-4,5], index=['d','a','c','f','h'])  \n",
    "s1"
   ]
  },
  {
   "cell_type": "code",
   "execution_count": null,
   "id": "89bc5e08",
   "metadata": {},
   "outputs": [],
   "source": [
    "s1.index"
   ]
  },
  {
   "cell_type": "code",
   "execution_count": null,
   "id": "62215c51",
   "metadata": {},
   "outputs": [],
   "source": [
    " s1['a']  # corresponding index value"
   ]
  },
  {
   "cell_type": "code",
   "execution_count": null,
   "id": "863b6b89",
   "metadata": {},
   "outputs": [],
   "source": [
    "s1[['d','c','h']] # it treats as indices even they are strings"
   ]
  },
  {
   "cell_type": "code",
   "execution_count": null,
   "id": "48c05650",
   "metadata": {},
   "outputs": [],
   "source": [
    "s1[s1>0]  # prints values greather than zero"
   ]
  },
  {
   "cell_type": "code",
   "execution_count": null,
   "id": "4a958894",
   "metadata": {},
   "outputs": [],
   "source": [
    "s1 * 2  # specified operation it perform"
   ]
  },
  {
   "cell_type": "code",
   "execution_count": null,
   "id": "845057f8",
   "metadata": {},
   "outputs": [],
   "source": [
    "np.exp(s1)  "
   ]
  },
  {
   "cell_type": "code",
   "execution_count": null,
   "id": "d397b49c",
   "metadata": {},
   "outputs": [],
   "source": [
    "'a' in s1  # index 'a' exist s1 "
   ]
  },
  {
   "cell_type": "code",
   "execution_count": null,
   "id": "c5511801",
   "metadata": {},
   "outputs": [],
   "source": [
    "'v' in s1 # doesn't exist"
   ]
  },
  {
   "cell_type": "code",
   "execution_count": 5,
   "id": "b7a54acc",
   "metadata": {},
   "outputs": [
    {
     "data": {
      "text/plain": [
       "Ohio      35000\n",
       "Texas     71000\n",
       "Oregon    16000\n",
       "Utah       5000\n",
       "dtype: int64"
      ]
     },
     "execution_count": 5,
     "metadata": {},
     "output_type": "execute_result"
    }
   ],
   "source": [
    "sdata={'Ohio': 35000, 'Texas': 71000, 'Oregon': 16000, 'Utah': 5000}\n",
    "s2=pd.Series(sdata)  # dict passing in Series it display data in tabular form\n",
    "s2"
   ]
  },
  {
   "cell_type": "code",
   "execution_count": 6,
   "id": "1e575d8e",
   "metadata": {},
   "outputs": [
    {
     "data": {
      "text/plain": [
       "California        NaN\n",
       "Ohio          35000.0\n",
       "Oregon        16000.0\n",
       "Texas         71000.0\n",
       "dtype: float64"
      ]
     },
     "execution_count": 6,
     "metadata": {},
     "output_type": "execute_result"
    }
   ],
   "source": [
    "states = ['California', 'Ohio', 'Oregon', 'Texas']\n",
    "s3=pd.Series(sdata,index=states)\n",
    "s3"
   ]
  },
  {
   "cell_type": "code",
   "execution_count": 7,
   "id": "695fc419",
   "metadata": {},
   "outputs": [
    {
     "data": {
      "text/plain": [
       "California     True\n",
       "Ohio          False\n",
       "Oregon        False\n",
       "Texas         False\n",
       "dtype: bool"
      ]
     },
     "execution_count": 7,
     "metadata": {},
     "output_type": "execute_result"
    }
   ],
   "source": [
    "pd.isnull(s3)"
   ]
  },
  {
   "cell_type": "code",
   "execution_count": 8,
   "id": "f7ae861a",
   "metadata": {},
   "outputs": [
    {
     "data": {
      "text/plain": [
       "California    False\n",
       "Ohio           True\n",
       "Oregon         True\n",
       "Texas          True\n",
       "dtype: bool"
      ]
     },
     "execution_count": 8,
     "metadata": {},
     "output_type": "execute_result"
    }
   ],
   "source": [
    "pd.notnull(s3)"
   ]
  },
  {
   "cell_type": "code",
   "execution_count": null,
   "id": "a866de24",
   "metadata": {},
   "outputs": [],
   "source": [
    "s2"
   ]
  },
  {
   "cell_type": "code",
   "execution_count": null,
   "id": "7de448d2",
   "metadata": {},
   "outputs": [],
   "source": [
    "s3"
   ]
  },
  {
   "cell_type": "code",
   "execution_count": 9,
   "id": "7e949a4a",
   "metadata": {},
   "outputs": [
    {
     "data": {
      "text/plain": [
       "California         NaN\n",
       "Ohio           70000.0\n",
       "Oregon         32000.0\n",
       "Texas         142000.0\n",
       "Utah               NaN\n",
       "dtype: float64"
      ]
     },
     "execution_count": 9,
     "metadata": {},
     "output_type": "execute_result"
    }
   ],
   "source": [
    "s2+s3 \n"
   ]
  },
  {
   "cell_type": "code",
   "execution_count": null,
   "id": "768c6a47",
   "metadata": {},
   "outputs": [],
   "source": [
    "s3.name='population'\n",
    "s3.index.name='state'  # state column nane labeled\n",
    "s3"
   ]
  },
  {
   "cell_type": "code",
   "execution_count": null,
   "id": "9dff56a5",
   "metadata": {},
   "outputs": [],
   "source": [
    "s\n"
   ]
  },
  {
   "cell_type": "code",
   "execution_count": null,
   "id": "2eee5dc7",
   "metadata": {},
   "outputs": [],
   "source": [
    "s.index=['Bob', 'Steve', 'Jeff', 'Ryan','mike']  # Index changed\n",
    "s"
   ]
  },
  {
   "cell_type": "code",
   "execution_count": null,
   "id": "d23db650",
   "metadata": {},
   "outputs": [],
   "source": []
  },
  {
   "cell_type": "markdown",
   "id": "12178736",
   "metadata": {},
   "source": [
    "# DataFrame\n",
    "DF rectangular table of data and contains ab ordered collection of columns .DataFrames has both row and column index.It is treated as dict of Series all sharing same indes.Data is stored as one or more two dimensiona block rather than list, dict."
   ]
  },
  {
   "cell_type": "code",
   "execution_count": null,
   "id": "3d36243d",
   "metadata": {},
   "outputs": [],
   "source": [
    "data = {'state': ['Ohio', 'Ohio', 'Ohio', 'Nevada', 'Nevada', 'Nevada'], 'year': [2000, 2001, 2002, 2001, 2002, 2003],\n",
    "'pop': [1.5, 1.7, 3.6, 2.4, 2.9, 3.2]}\n",
    "frame = pd.DataFrame(data)"
   ]
  },
  {
   "cell_type": "code",
   "execution_count": null,
   "id": "4786ccf7",
   "metadata": {},
   "outputs": [],
   "source": [
    "frame  #DF displays data in tabular form, keys columns label"
   ]
  },
  {
   "cell_type": "code",
   "execution_count": null,
   "id": "96e2a4ea",
   "metadata": {},
   "outputs": [],
   "source": [
    "pd.DataFrame(data,columns=['year','state','pop'])# changing the column order"
   ]
  },
  {
   "cell_type": "code",
   "execution_count": null,
   "id": "ada98931",
   "metadata": {},
   "outputs": [],
   "source": [
    "frame2 = pd.DataFrame(data, columns=['year', 'state', 'pop', 'debt'], index=['one', 'two', 'three', 'four',\n",
    "'five', 'six'])"
   ]
  },
  {
   "cell_type": "code",
   "execution_count": null,
   "id": "3382d808",
   "metadata": {},
   "outputs": [],
   "source": [
    "frame2  # new column added with indecies One to Six"
   ]
  },
  {
   "cell_type": "code",
   "execution_count": null,
   "id": "176fd226",
   "metadata": {},
   "outputs": [],
   "source": [
    "frame2.columns"
   ]
  },
  {
   "cell_type": "code",
   "execution_count": null,
   "id": "c9775732",
   "metadata": {},
   "outputs": [],
   "source": [
    "frame2['state'] # displays state columns values"
   ]
  },
  {
   "cell_type": "code",
   "execution_count": null,
   "id": "7e9fdc3d",
   "metadata": {},
   "outputs": [],
   "source": [
    "frame2['year']"
   ]
  },
  {
   "cell_type": "code",
   "execution_count": null,
   "id": "4f5910f3",
   "metadata": {},
   "outputs": [],
   "source": [
    "frame2.loc['three']\n"
   ]
  },
  {
   "cell_type": "code",
   "execution_count": null,
   "id": "56ab3a5f",
   "metadata": {},
   "outputs": [],
   "source": [
    "frame2['debt']=23.5\n",
    "frame2  # all debt values are assigned 23.5"
   ]
  },
  {
   "cell_type": "code",
   "execution_count": null,
   "id": "44ae48c9",
   "metadata": {},
   "outputs": [],
   "source": [
    "frame2['debt']=np.arange(6.)  # number of rows put it in asending order"
   ]
  },
  {
   "cell_type": "code",
   "execution_count": null,
   "id": "c16dcfd9",
   "metadata": {},
   "outputs": [],
   "source": [
    "frame2"
   ]
  },
  {
   "cell_type": "code",
   "execution_count": null,
   "id": "45f7464b",
   "metadata": {},
   "outputs": [],
   "source": [
    "val=pd.Series([-1.2,-1.6,-1.8],index=['two','four','five'])\n",
    "frame2['debt']=val# assigning val to debt column for those index\n",
    "frame2"
   ]
  },
  {
   "cell_type": "code",
   "execution_count": null,
   "id": "f80e9d9d",
   "metadata": {},
   "outputs": [],
   "source": [
    "frame2['eastern']=frame2.state == 'Ohio'  # for ohio state we are settig eastern True\n",
    "frame2"
   ]
  },
  {
   "cell_type": "code",
   "execution_count": null,
   "id": "736d8124",
   "metadata": {},
   "outputs": [],
   "source": [
    "del frame2['eastern']  # delete eastern clomun "
   ]
  },
  {
   "cell_type": "code",
   "execution_count": null,
   "id": "5d091871",
   "metadata": {},
   "outputs": [],
   "source": [
    "frame2.columns   "
   ]
  },
  {
   "cell_type": "code",
   "execution_count": null,
   "id": "370ab44e",
   "metadata": {},
   "outputs": [],
   "source": [
    "frame2"
   ]
  },
  {
   "cell_type": "code",
   "execution_count": null,
   "id": "17584ab8",
   "metadata": {},
   "outputs": [],
   "source": [
    "pop = {'Nevada': {2001: 2.4, 2002: 2.9},\n",
    " 'Ohio': {2000: 1.5, 2001: 1.7, 2002: 3.6}}\n"
   ]
  },
  {
   "cell_type": "code",
   "execution_count": null,
   "id": "e5564c06",
   "metadata": {},
   "outputs": [],
   "source": [
    "frame3=pd.DataFrame(pop)  #pop dict adding to frame3 dataframe\n",
    "frame3  "
   ]
  },
  {
   "cell_type": "code",
   "execution_count": null,
   "id": "db028946",
   "metadata": {},
   "outputs": [],
   "source": [
    "frame3.T  # Intercahnge columns and rows"
   ]
  },
  {
   "cell_type": "code",
   "execution_count": null,
   "id": "002ff1da",
   "metadata": {},
   "outputs": [],
   "source": [
    "pd.DataFrame(pop,index=[2001,2002,2003]) # setting index back \n"
   ]
  },
  {
   "cell_type": "code",
   "execution_count": null,
   "id": "3f3c6fa0",
   "metadata": {},
   "outputs": [],
   "source": [
    "pdata = {'Ohio': frame3['Ohio'][:-1], 'Nevada': frame3['Nevada'][:2]}\n",
    "pd.DataFrame(pdata)"
   ]
  },
  {
   "cell_type": "code",
   "execution_count": null,
   "id": "a292fa9c",
   "metadata": {},
   "outputs": [],
   "source": [
    "frame3.values"
   ]
  },
  {
   "cell_type": "code",
   "execution_count": null,
   "id": "e4254736",
   "metadata": {},
   "outputs": [],
   "source": [
    "frame2.values"
   ]
  },
  {
   "cell_type": "markdown",
   "id": "6e803655",
   "metadata": {},
   "source": [
    "# Index objects\n"
   ]
  },
  {
   "cell_type": "code",
   "execution_count": null,
   "id": "90d521e9",
   "metadata": {},
   "outputs": [],
   "source": [
    "obj=pd.Series(range(3),index=['a','b','c'])\n",
    "index=obj.index\n",
    "index\n",
    "                              "
   ]
  },
  {
   "cell_type": "code",
   "execution_count": null,
   "id": "367b257c",
   "metadata": {},
   "outputs": [],
   "source": [
    "index[1:] # from 1, index ob are immutable and can't be modidied by user\n"
   ]
  },
  {
   "cell_type": "code",
   "execution_count": null,
   "id": "035eee6c",
   "metadata": {},
   "outputs": [],
   "source": [
    "#index[1]='d' # type error we can;'t modify thr index'"
   ]
  },
  {
   "cell_type": "code",
   "execution_count": null,
   "id": "876d615d",
   "metadata": {},
   "outputs": [],
   "source": [
    "labels=pd.Index(np.arange(3)) # column 0 to 2"
   ]
  },
  {
   "cell_type": "code",
   "execution_count": null,
   "id": "a751f28b",
   "metadata": {},
   "outputs": [],
   "source": [
    "labels"
   ]
  },
  {
   "cell_type": "code",
   "execution_count": null,
   "id": "9e7076e4",
   "metadata": {},
   "outputs": [],
   "source": [
    "obj2=pd.Series([1.5,-2.4,0],index=labels)\n",
    "obj2"
   ]
  },
  {
   "cell_type": "code",
   "execution_count": null,
   "id": "ad374ad2",
   "metadata": {},
   "outputs": [],
   "source": [
    "obj2.index is labels\n"
   ]
  },
  {
   "cell_type": "code",
   "execution_count": null,
   "id": "e5cd75f8",
   "metadata": {},
   "outputs": [],
   "source": [
    "frame3\n"
   ]
  },
  {
   "cell_type": "code",
   "execution_count": null,
   "id": "84d3e45f",
   "metadata": {},
   "outputs": [],
   "source": [
    "frame3.columns"
   ]
  },
  {
   "cell_type": "code",
   "execution_count": null,
   "id": "f77ab9fa",
   "metadata": {},
   "outputs": [],
   "source": [
    "'Ohio' in frame3.columns"
   ]
  },
  {
   "cell_type": "code",
   "execution_count": null,
   "id": "3fa12e2e",
   "metadata": {},
   "outputs": [],
   "source": [
    "2003 in frame3.index"
   ]
  },
  {
   "cell_type": "code",
   "execution_count": null,
   "id": "d1f374d8",
   "metadata": {},
   "outputs": [],
   "source": [
    "dup_labels = pd.Index(['foo', 'foo', 'bar', 'bar'])\n",
    "dup_labels"
   ]
  },
  {
   "cell_type": "code",
   "execution_count": null,
   "id": "fbdb5977",
   "metadata": {},
   "outputs": [],
   "source": [
    "obj = pd.Series([4.5, 7.2, -5.3, 3.6], index=['d', 'b', 'a', 'c'])\n",
    "obj"
   ]
  },
  {
   "cell_type": "code",
   "execution_count": null,
   "id": "b37747b4",
   "metadata": {},
   "outputs": [],
   "source": [
    " obj2 = obj.reindex(['a', 'b', 'c', 'd', 'e']) # reassigned index to obj2\n",
    "obj2\n",
    "    "
   ]
  },
  {
   "cell_type": "code",
   "execution_count": null,
   "id": "04b6e4db",
   "metadata": {},
   "outputs": [],
   "source": [
    " obj3 = pd.Series(['blue', 'purple', 'yellow'], index=[0, 2, 4])\n",
    "obj3"
   ]
  },
  {
   "cell_type": "code",
   "execution_count": null,
   "id": "9519f8a4",
   "metadata": {},
   "outputs": [],
   "source": [
    "obj3.reindex(range(6), method='ffill') # 0 to 5"
   ]
  },
  {
   "cell_type": "code",
   "execution_count": null,
   "id": "568e3808",
   "metadata": {},
   "outputs": [],
   "source": [
    "frame = pd.DataFrame(np.arange(9).reshape((3, 3)), index=['a', 'c', 'd'],\n",
    "                     columns=['Ohio', 'Texas', 'California'])\n",
    "frame # reshape the frame 3 cross 3"
   ]
  },
  {
   "cell_type": "code",
   "execution_count": null,
   "id": "5cc8fcad",
   "metadata": {},
   "outputs": [],
   "source": [
    "frame2 = frame.reindex(['a', 'b', 'c', 'd'])\n",
    "frame2"
   ]
  },
  {
   "cell_type": "code",
   "execution_count": null,
   "id": "95a57d84",
   "metadata": {},
   "outputs": [],
   "source": [
    "states = ['Texas', 'Utah', 'California']\n",
    "frame.reindex(columns=states)  #frame reassigning column"
   ]
  },
  {
   "cell_type": "code",
   "execution_count": null,
   "id": "0f09286d",
   "metadata": {},
   "outputs": [],
   "source": [
    "frame.loc[['a', 'b', 'c', 'd'], states]  \n",
    "# row b should gets added up \n"
   ]
  },
  {
   "cell_type": "code",
   "execution_count": null,
   "id": "5c296e1d",
   "metadata": {},
   "outputs": [],
   "source": [
    "obj = pd.Series(np.arange(5.), index=['a', 'b', 'c', 'd', 'e'])"
   ]
  },
  {
   "cell_type": "code",
   "execution_count": null,
   "id": "a8217772",
   "metadata": {},
   "outputs": [],
   "source": [
    "obj"
   ]
  },
  {
   "cell_type": "code",
   "execution_count": null,
   "id": "29ee9428",
   "metadata": {},
   "outputs": [],
   "source": [
    "new_obj=obj.drop('c') # removed c row"
   ]
  },
  {
   "cell_type": "code",
   "execution_count": null,
   "id": "cd065013",
   "metadata": {},
   "outputs": [],
   "source": [
    "new_obj"
   ]
  },
  {
   "cell_type": "code",
   "execution_count": null,
   "id": "74e57f4e",
   "metadata": {},
   "outputs": [],
   "source": [
    "obj.drop(['d', 'c'])"
   ]
  },
  {
   "cell_type": "code",
   "execution_count": null,
   "id": "3de49c59",
   "metadata": {},
   "outputs": [],
   "source": [
    "data = pd.DataFrame(np.arange(16).reshape((4, 4)),\n",
    "index=['Ohio', 'Colorado', 'Utah', 'New York'],\n",
    "                    columns=['one', 'two', 'three', 'four'])\n",
    "data"
   ]
  },
  {
   "cell_type": "code",
   "execution_count": null,
   "id": "0fca3d42",
   "metadata": {},
   "outputs": [],
   "source": [
    "data.drop(['Colorado', 'Ohio']) # drop index/row if given in list []\n"
   ]
  },
  {
   "cell_type": "code",
   "execution_count": null,
   "id": "d6cbe3b0",
   "metadata": {},
   "outputs": [],
   "source": [
    "data"
   ]
  },
  {
   "cell_type": "code",
   "execution_count": null,
   "id": "a028ff4f",
   "metadata": {},
   "outputs": [],
   "source": [
    "data.drop('two', axis=1) # axis means "
   ]
  },
  {
   "cell_type": "code",
   "execution_count": null,
   "id": "eb41edcc",
   "metadata": {},
   "outputs": [],
   "source": [
    "data.drop(['two', 'four'], axis='columns')   "
   ]
  },
  {
   "cell_type": "markdown",
   "id": "a86d4cf1",
   "metadata": {},
   "source": [
    "#Be careful with the inplace, as it destroys any data that is dropped.\n",
    "#Many functions, like drop, which modify the size or shape of a Series or DataFrame, can manipulate an object in-place without returning a new object:\n"
   ]
  },
  {
   "cell_type": "code",
   "execution_count": null,
   "id": "b9baeee5",
   "metadata": {},
   "outputs": [],
   "source": [
    "obj.drop('b', inplace=True)   # as I already destroyed c now its allowing to use c\n",
    "obj"
   ]
  },
  {
   "cell_type": "markdown",
   "id": "5e0ae0f4",
   "metadata": {},
   "source": [
    "# Indexing, Selection, and Filtering"
   ]
  },
  {
   "cell_type": "code",
   "execution_count": null,
   "id": "d815fc45",
   "metadata": {},
   "outputs": [],
   "source": [
    "obj = pd.Series(np.arange(4.), index=['a', 'b', 'c', 'd'])\n",
    "obj"
   ]
  },
  {
   "cell_type": "code",
   "execution_count": null,
   "id": "5702dfe5",
   "metadata": {},
   "outputs": [],
   "source": [
    "obj['b']"
   ]
  },
  {
   "cell_type": "code",
   "execution_count": null,
   "id": "40af2027",
   "metadata": {},
   "outputs": [],
   "source": [
    "obj[1]"
   ]
  },
  {
   "cell_type": "code",
   "execution_count": null,
   "id": "fc99c0fb",
   "metadata": {},
   "outputs": [],
   "source": [
    "obj[2:4]"
   ]
  },
  {
   "cell_type": "code",
   "execution_count": null,
   "id": "8aba8279",
   "metadata": {},
   "outputs": [],
   "source": [
    " obj[['b', 'a', 'd']]"
   ]
  },
  {
   "cell_type": "code",
   "execution_count": null,
   "id": "09510371",
   "metadata": {},
   "outputs": [],
   "source": [
    "obj[[1,3]] # display 1,3"
   ]
  },
  {
   "cell_type": "code",
   "execution_count": null,
   "id": "4415d2cd",
   "metadata": {},
   "outputs": [],
   "source": [
    "obj[obj < 2]"
   ]
  },
  {
   "cell_type": "code",
   "execution_count": null,
   "id": "e1349bf1",
   "metadata": {},
   "outputs": [],
   "source": [
    "obj['b':'c']"
   ]
  },
  {
   "cell_type": "code",
   "execution_count": null,
   "id": "e27a882b",
   "metadata": {},
   "outputs": [],
   "source": [
    "obj['b':'c'] = 5"
   ]
  },
  {
   "cell_type": "code",
   "execution_count": null,
   "id": "d6d1456f",
   "metadata": {},
   "outputs": [],
   "source": [
    "obj"
   ]
  },
  {
   "cell_type": "code",
   "execution_count": null,
   "id": "6faf3384",
   "metadata": {},
   "outputs": [],
   "source": [
    "data = pd.DataFrame(np.arange(16).reshape((4, 4)),\n",
    "index=['Ohio', 'Colorado', 'Utah', 'New York'],\n",
    "                    columns=['one', 'two', 'three', 'four'])\n",
    "data"
   ]
  },
  {
   "cell_type": "code",
   "execution_count": null,
   "id": "61de3c9d",
   "metadata": {},
   "outputs": [],
   "source": [
    "data['two']"
   ]
  },
  {
   "cell_type": "code",
   "execution_count": null,
   "id": "500cea4f",
   "metadata": {},
   "outputs": [],
   "source": [
    "data[['three', 'one']]"
   ]
  },
  {
   "cell_type": "code",
   "execution_count": null,
   "id": "6569b6b7",
   "metadata": {},
   "outputs": [],
   "source": [
    "data[:2]  # 0,1\n",
    "  "
   ]
  },
  {
   "cell_type": "code",
   "execution_count": null,
   "id": "48766cfa",
   "metadata": {},
   "outputs": [],
   "source": [
    "data[data['three']>5]"
   ]
  },
  {
   "cell_type": "code",
   "execution_count": null,
   "id": "fb304771",
   "metadata": {},
   "outputs": [],
   "source": [
    "data<5 # 1st 5 elements"
   ]
  },
  {
   "cell_type": "code",
   "execution_count": null,
   "id": "1269ddf7",
   "metadata": {},
   "outputs": [],
   "source": [
    "data[data <5] =0  # 1st 5 elements =0\n",
    "data "
   ]
  },
  {
   "cell_type": "markdown",
   "id": "9dabc039",
   "metadata": {},
   "source": [
    "# Selection with loc and iloc\n",
    "For DataFrame label-indexing on the rows, I introduce the special indexing operators loc and iloc. They enable you to select a subset of the rows and columns from a DataFrame with NumPy-like notation using either axis labels (loc) or integers (iloc)"
   ]
  },
  {
   "cell_type": "code",
   "execution_count": null,
   "id": "1f3cb782",
   "metadata": {},
   "outputs": [],
   "source": [
    "data.loc['Colorado', ['two', 'three']] # that location element usiong name "
   ]
  },
  {
   "cell_type": "code",
   "execution_count": null,
   "id": "5e547e71",
   "metadata": {},
   "outputs": [],
   "source": [
    " data.iloc[2, [3, 0, 1]] # using integers"
   ]
  },
  {
   "cell_type": "code",
   "execution_count": null,
   "id": "e5400b30",
   "metadata": {},
   "outputs": [],
   "source": [
    "data.iloc[2]"
   ]
  },
  {
   "cell_type": "code",
   "execution_count": null,
   "id": "51217605",
   "metadata": {},
   "outputs": [],
   "source": [
    "data.iloc[[1, 2], [3, 0, 1]]"
   ]
  },
  {
   "cell_type": "code",
   "execution_count": null,
   "id": "ddd5be3b",
   "metadata": {},
   "outputs": [],
   "source": [
    "data.loc[:'Utah', 'two'] # upto Utah"
   ]
  },
  {
   "cell_type": "code",
   "execution_count": null,
   "id": "c7576a58",
   "metadata": {},
   "outputs": [],
   "source": [
    "data.iloc[:, :3][data.three > 5] # not that clear"
   ]
  },
  {
   "cell_type": "code",
   "execution_count": null,
   "id": "4b2f9ad3",
   "metadata": {},
   "outputs": [],
   "source": [
    "ser = pd.Series(np.arange(3.))"
   ]
  },
  {
   "cell_type": "code",
   "execution_count": null,
   "id": "baf0e25f",
   "metadata": {},
   "outputs": [],
   "source": [
    "ser"
   ]
  },
  {
   "cell_type": "code",
   "execution_count": null,
   "id": "cfcd1148",
   "metadata": {},
   "outputs": [],
   "source": [
    " ser2 = pd.Series(np.arange(3.), index=['a', 'b', 'c'])"
   ]
  },
  {
   "cell_type": "code",
   "execution_count": null,
   "id": "917495db",
   "metadata": {},
   "outputs": [],
   "source": [
    "ser2[-1]"
   ]
  },
  {
   "cell_type": "code",
   "execution_count": null,
   "id": "47c7b1a6",
   "metadata": {},
   "outputs": [],
   "source": [
    "ser[:1]"
   ]
  },
  {
   "cell_type": "code",
   "execution_count": null,
   "id": "75333d5e",
   "metadata": {},
   "outputs": [],
   "source": [
    "ser.loc[:1]"
   ]
  },
  {
   "cell_type": "code",
   "execution_count": null,
   "id": "fe614921",
   "metadata": {},
   "outputs": [],
   "source": [
    "ser.iloc[:1]"
   ]
  },
  {
   "cell_type": "code",
   "execution_count": null,
   "id": "d829ed59",
   "metadata": {},
   "outputs": [],
   "source": [
    "s1 = pd.Series([7.3, -2.5, 3.4, 1.5], index=['a', 'c', 'd', 'e'])"
   ]
  },
  {
   "cell_type": "code",
   "execution_count": null,
   "id": "b2f20485",
   "metadata": {},
   "outputs": [],
   "source": [
    "s2 = pd.Series([-2.1, 3.6, -1.5, 4, 3.1],\n",
    "               index=['a', 'c', 'e', 'f', 'g'])"
   ]
  },
  {
   "cell_type": "code",
   "execution_count": null,
   "id": "eecfc5f5",
   "metadata": {},
   "outputs": [],
   "source": [
    "s1"
   ]
  },
  {
   "cell_type": "code",
   "execution_count": null,
   "id": "1d50bf77",
   "metadata": {},
   "outputs": [],
   "source": [
    "s2\n"
   ]
  },
  {
   "cell_type": "code",
   "execution_count": null,
   "id": "d91ffd9f",
   "metadata": {},
   "outputs": [],
   "source": [
    "s1+s2  # if only have other doesn;t then NAN"
   ]
  },
  {
   "cell_type": "code",
   "execution_count": null,
   "id": "f89bd170",
   "metadata": {},
   "outputs": [],
   "source": [
    "\n",
    " df1= pd.DataFrame(np.arange(9.).reshape((3, 3)), columns=list('bcd'), index=['Ohio', 'Texas', 'Colorado'])"
   ]
  },
  {
   "cell_type": "code",
   "execution_count": null,
   "id": "a62aa0c5",
   "metadata": {},
   "outputs": [],
   "source": [
    "df2= pd.DataFrame(np.arange(12.).reshape((4, 3)), columns=list('bde'), index=['Utah', 'Ohio', 'Texas', 'Oregon'])"
   ]
  },
  {
   "cell_type": "code",
   "execution_count": null,
   "id": "744b854b",
   "metadata": {},
   "outputs": [],
   "source": [
    "df1"
   ]
  },
  {
   "cell_type": "code",
   "execution_count": null,
   "id": "f5b3a162",
   "metadata": {},
   "outputs": [],
   "source": [
    "df2\n"
   ]
  },
  {
   "cell_type": "code",
   "execution_count": null,
   "id": "a864c35b",
   "metadata": {},
   "outputs": [],
   "source": [
    "df1 + df2"
   ]
  },
  {
   "cell_type": "code",
   "execution_count": null,
   "id": "bdca8ffa",
   "metadata": {},
   "outputs": [],
   "source": [
    " df1= pd.DataFrame({'A': [1, 2]})"
   ]
  },
  {
   "cell_type": "code",
   "execution_count": null,
   "id": "ff63dcfe",
   "metadata": {},
   "outputs": [],
   "source": [
    "df2=pd.DataFrame({'B':[3,4]})"
   ]
  },
  {
   "cell_type": "code",
   "execution_count": null,
   "id": "6cd90c85",
   "metadata": {},
   "outputs": [],
   "source": [
    "df1\n"
   ]
  },
  {
   "cell_type": "code",
   "execution_count": null,
   "id": "5ece26e2",
   "metadata": {},
   "outputs": [],
   "source": [
    "df2"
   ]
  },
  {
   "cell_type": "code",
   "execution_count": null,
   "id": "73d34716",
   "metadata": {},
   "outputs": [],
   "source": [
    "df1-df2\n"
   ]
  },
  {
   "cell_type": "code",
   "execution_count": null,
   "id": "f03b23bf",
   "metadata": {},
   "outputs": [],
   "source": [
    "df1 = pd.DataFrame(np.arange(12.).reshape((3, 4)), columns=list('abcd'))"
   ]
  },
  {
   "cell_type": "code",
   "execution_count": null,
   "id": "76c2d16a",
   "metadata": {},
   "outputs": [],
   "source": [
    "df2 = pd.DataFrame(np.arange(20.).reshape((4, 5)), columns=list('abcde'))\n",
    "\n"
   ]
  },
  {
   "cell_type": "code",
   "execution_count": null,
   "id": "9f613a96",
   "metadata": {},
   "outputs": [],
   "source": [
    "df2.loc[1,'b']=np.nan\n"
   ]
  },
  {
   "cell_type": "code",
   "execution_count": null,
   "id": "2955e92f",
   "metadata": {},
   "outputs": [],
   "source": [
    "df1\n"
   ]
  },
  {
   "cell_type": "code",
   "execution_count": null,
   "id": "600e84e1",
   "metadata": {},
   "outputs": [],
   "source": [
    "df2"
   ]
  },
  {
   "cell_type": "code",
   "execution_count": null,
   "id": "82dea5e2",
   "metadata": {},
   "outputs": [],
   "source": [
    "df1.add(df2, fill_value=0)"
   ]
  },
  {
   "cell_type": "code",
   "execution_count": null,
   "id": "b8b1118b",
   "metadata": {},
   "outputs": [],
   "source": [
    "1/df1"
   ]
  },
  {
   "cell_type": "code",
   "execution_count": null,
   "id": "3ed6c6b2",
   "metadata": {},
   "outputs": [],
   "source": [
    "df1.rdiv(1)"
   ]
  },
  {
   "cell_type": "code",
   "execution_count": null,
   "id": "8831341c",
   "metadata": {},
   "outputs": [],
   "source": [
    "df1.reindex(columns=df2.columns, fill_value=0)"
   ]
  },
  {
   "cell_type": "code",
   "execution_count": null,
   "id": "a2e97b87",
   "metadata": {},
   "outputs": [],
   "source": [
    "arr= np.arange(12.).reshape((3, 4))"
   ]
  },
  {
   "cell_type": "code",
   "execution_count": null,
   "id": "8d5bdf1b",
   "metadata": {},
   "outputs": [],
   "source": [
    "arr\n"
   ]
  },
  {
   "cell_type": "code",
   "execution_count": null,
   "id": "9777ec2a",
   "metadata": {},
   "outputs": [],
   "source": [
    "arr[0]"
   ]
  },
  {
   "cell_type": "code",
   "execution_count": null,
   "id": "6afe88d7",
   "metadata": {},
   "outputs": [],
   "source": [
    "arr -arr[0]"
   ]
  },
  {
   "cell_type": "code",
   "execution_count": null,
   "id": "d7cd676e",
   "metadata": {},
   "outputs": [],
   "source": [
    "frame = pd.DataFrame(np.arange(12.).reshape((4, 3)), columns=list('bde'),\n",
    "index=['Utah', 'Ohio', 'Texas', 'Oregon'])"
   ]
  },
  {
   "cell_type": "code",
   "execution_count": null,
   "id": "c53265fa",
   "metadata": {},
   "outputs": [],
   "source": [
    "series=frame.iloc[0]"
   ]
  },
  {
   "cell_type": "code",
   "execution_count": null,
   "id": "46debdca",
   "metadata": {},
   "outputs": [],
   "source": [
    "frame\n"
   ]
  },
  {
   "cell_type": "code",
   "execution_count": null,
   "id": "0bee4826",
   "metadata": {},
   "outputs": [],
   "source": [
    "series"
   ]
  },
  {
   "cell_type": "code",
   "execution_count": null,
   "id": "a814fc1a",
   "metadata": {},
   "outputs": [],
   "source": [
    "frame - series"
   ]
  },
  {
   "cell_type": "code",
   "execution_count": null,
   "id": "21f4fd12",
   "metadata": {},
   "outputs": [],
   "source": [
    "series2 = pd.Series(range(3), index=['b', 'e', 'f'])"
   ]
  },
  {
   "cell_type": "code",
   "execution_count": null,
   "id": "699ebb62",
   "metadata": {},
   "outputs": [],
   "source": [
    "frame + series2"
   ]
  },
  {
   "cell_type": "code",
   "execution_count": null,
   "id": "6bc059b1",
   "metadata": {},
   "outputs": [],
   "source": [
    "series3 = frame['d']"
   ]
  },
  {
   "cell_type": "code",
   "execution_count": null,
   "id": "91ead76a",
   "metadata": {},
   "outputs": [],
   "source": [
    "frame"
   ]
  },
  {
   "cell_type": "code",
   "execution_count": null,
   "id": "32bf5112",
   "metadata": {},
   "outputs": [],
   "source": [
    "series3"
   ]
  },
  {
   "cell_type": "code",
   "execution_count": null,
   "id": "e0b67db1",
   "metadata": {},
   "outputs": [],
   "source": [
    "frame.sub(series3, axis='index')"
   ]
  },
  {
   "cell_type": "code",
   "execution_count": null,
   "id": "421f33f8",
   "metadata": {},
   "outputs": [],
   "source": [
    "frame = pd.DataFrame(np.random.randn(4, 3), columns=list('bde'), index=['Utah', 'Ohio', 'Texas', 'Oregon'])"
   ]
  },
  {
   "cell_type": "code",
   "execution_count": null,
   "id": "06ccdd57",
   "metadata": {},
   "outputs": [],
   "source": [
    "frame\n"
   ]
  },
  {
   "cell_type": "code",
   "execution_count": null,
   "id": "15fff21a",
   "metadata": {},
   "outputs": [],
   "source": [
    "np.abs(frame)"
   ]
  },
  {
   "cell_type": "code",
   "execution_count": null,
   "id": "289c42e3",
   "metadata": {},
   "outputs": [],
   "source": [
    "\n",
    "f=lambda x:x.max() - x.min()"
   ]
  },
  {
   "cell_type": "code",
   "execution_count": null,
   "id": "7e2ace35",
   "metadata": {},
   "outputs": [],
   "source": [
    "frame.apply(f)"
   ]
  },
  {
   "cell_type": "code",
   "execution_count": null,
   "id": "c5df0007",
   "metadata": {},
   "outputs": [],
   "source": [
    "frame.apply(f,axis='columns')"
   ]
  },
  {
   "cell_type": "code",
   "execution_count": null,
   "id": "8299be40",
   "metadata": {},
   "outputs": [],
   "source": [
    "def f(x):\n",
    "    return pd.Series([x.min(), x.max()], index=['min', 'max'])\n"
   ]
  },
  {
   "cell_type": "code",
   "execution_count": null,
   "id": "888cd6fe",
   "metadata": {},
   "outputs": [],
   "source": [
    "frame.apply(f)"
   ]
  },
  {
   "cell_type": "code",
   "execution_count": null,
   "id": "71f503f4",
   "metadata": {},
   "outputs": [],
   "source": [
    "format = lambda x: '%.2f' % x"
   ]
  },
  {
   "cell_type": "code",
   "execution_count": null,
   "id": "779bc6aa",
   "metadata": {},
   "outputs": [],
   "source": [
    "frame.applymap(format)"
   ]
  },
  {
   "cell_type": "code",
   "execution_count": null,
   "id": "05731817",
   "metadata": {},
   "outputs": [],
   "source": [
    "\n",
    "frame['e'].map(format)"
   ]
  },
  {
   "cell_type": "markdown",
   "id": "990069b2",
   "metadata": {},
   "source": [
    "# Sorting and Ranking\n",
    "Sorting a dataset by some criterion is another important built-in operation. To sort lexicographically by row or column index, use the sort_index method, which returns a new, sorted object:"
   ]
  },
  {
   "cell_type": "code",
   "execution_count": null,
   "id": "9196d099",
   "metadata": {},
   "outputs": [],
   "source": [
    "obj = pd.Series(range(4), index=['d', 'a', 'b', 'c'])"
   ]
  },
  {
   "cell_type": "code",
   "execution_count": null,
   "id": "3399bb1b",
   "metadata": {},
   "outputs": [],
   "source": [
    "obj.sort_index()"
   ]
  },
  {
   "cell_type": "code",
   "execution_count": null,
   "id": "36b04931",
   "metadata": {},
   "outputs": [],
   "source": [
    "frame=pd.DataFrame(np.arange(8).reshape((2, 4)), index=['three', 'one'],\n",
    "columns=['d', 'a', 'b', 'c'])"
   ]
  },
  {
   "cell_type": "code",
   "execution_count": null,
   "id": "48bce676",
   "metadata": {},
   "outputs": [],
   "source": [
    "frame.sort_index()"
   ]
  },
  {
   "cell_type": "code",
   "execution_count": null,
   "id": "f9e9bfc5",
   "metadata": {},
   "outputs": [],
   "source": [
    "frame.sort_index(axis=1)"
   ]
  },
  {
   "cell_type": "code",
   "execution_count": null,
   "id": "0ebd541b",
   "metadata": {},
   "outputs": [],
   "source": [
    "frame.sort_index(axis=1, ascending=False) # from column 1 decending "
   ]
  },
  {
   "cell_type": "code",
   "execution_count": null,
   "id": "078f22f3",
   "metadata": {},
   "outputs": [],
   "source": [
    "obj = pd.Series([4, 7, -3, 2])"
   ]
  },
  {
   "cell_type": "code",
   "execution_count": null,
   "id": "6c39c2b3",
   "metadata": {},
   "outputs": [],
   "source": [
    "obj.sort_values()"
   ]
  },
  {
   "cell_type": "code",
   "execution_count": null,
   "id": "fcb8fd65",
   "metadata": {},
   "outputs": [],
   "source": [
    "obj = pd.Series([4, np.nan, 7, np.nan, -3, 2])"
   ]
  },
  {
   "cell_type": "code",
   "execution_count": null,
   "id": "3c604aeb",
   "metadata": {},
   "outputs": [],
   "source": [
    "obj.sort_values()  # sort basis of values"
   ]
  },
  {
   "cell_type": "code",
   "execution_count": null,
   "id": "2010392f",
   "metadata": {},
   "outputs": [],
   "source": [
    "frame = pd.DataFrame({'b': [4, 7, -3, 2], 'a': [0, 1, 0, 1]})\n"
   ]
  },
  {
   "cell_type": "code",
   "execution_count": null,
   "id": "5f117e92",
   "metadata": {},
   "outputs": [],
   "source": [
    "frame"
   ]
  },
  {
   "cell_type": "code",
   "execution_count": null,
   "id": "485be38e",
   "metadata": {},
   "outputs": [],
   "source": [
    "frame.sort_values(by='b')"
   ]
  },
  {
   "cell_type": "code",
   "execution_count": null,
   "id": "9bd9b084",
   "metadata": {},
   "outputs": [],
   "source": [
    "frame.sort_values(by=['a', 'b'])"
   ]
  },
  {
   "cell_type": "code",
   "execution_count": null,
   "id": "d44f632a",
   "metadata": {},
   "outputs": [],
   "source": [
    "obj = pd.Series([7, -5, 7, 4, 2, 0, 4])"
   ]
  },
  {
   "cell_type": "code",
   "execution_count": null,
   "id": "06d64b06",
   "metadata": {},
   "outputs": [],
   "source": [
    "obj.rank() # assign mean to all values "
   ]
  },
  {
   "cell_type": "code",
   "execution_count": null,
   "id": "7bbd9c5b",
   "metadata": {},
   "outputs": [],
   "source": [
    "obj.rank(method='first')"
   ]
  },
  {
   "cell_type": "code",
   "execution_count": null,
   "id": "16b536f1",
   "metadata": {},
   "outputs": [],
   "source": [
    "obj.rank(ascending=False, method='max')"
   ]
  },
  {
   "cell_type": "code",
   "execution_count": null,
   "id": "ce63df42",
   "metadata": {},
   "outputs": [],
   "source": [
    "frame = pd.DataFrame({'b': [4.3, 7, -3, 2], 'a': [0, 1, 0, 1],\n",
    " 'c':[-2, 5, 8, -2.5]})"
   ]
  },
  {
   "cell_type": "code",
   "execution_count": null,
   "id": "5dd54d6c",
   "metadata": {},
   "outputs": [],
   "source": [
    "frame"
   ]
  },
  {
   "cell_type": "code",
   "execution_count": null,
   "id": "86beaa58",
   "metadata": {},
   "outputs": [],
   "source": [
    "frame.rank(axis='columns')"
   ]
  },
  {
   "cell_type": "markdown",
   "id": "0788aa9e",
   "metadata": {},
   "source": [
    "# Axis Indexes with Duplicate Labels"
   ]
  },
  {
   "cell_type": "code",
   "execution_count": null,
   "id": "b3a47fa3",
   "metadata": {},
   "outputs": [],
   "source": [
    "obj = pd.Series(range(5), index=['a', 'a', 'b', 'b', 'c'])"
   ]
  },
  {
   "cell_type": "code",
   "execution_count": null,
   "id": "2c973874",
   "metadata": {},
   "outputs": [],
   "source": [
    "obj"
   ]
  },
  {
   "cell_type": "code",
   "execution_count": null,
   "id": "cf0c58c0",
   "metadata": {},
   "outputs": [],
   "source": [
    "obj.index.is_unique"
   ]
  },
  {
   "cell_type": "code",
   "execution_count": null,
   "id": "82812e77",
   "metadata": {},
   "outputs": [],
   "source": [
    "obj['a']"
   ]
  },
  {
   "cell_type": "code",
   "execution_count": null,
   "id": "8ed939d5",
   "metadata": {},
   "outputs": [],
   "source": [
    "obj['c']"
   ]
  },
  {
   "cell_type": "code",
   "execution_count": null,
   "id": "f720fdb5",
   "metadata": {},
   "outputs": [],
   "source": [
    "df = pd.DataFrame(np.random.randn(4, 3), index=['a', 'a', 'b', 'b'])"
   ]
  },
  {
   "cell_type": "code",
   "execution_count": null,
   "id": "7abacce3",
   "metadata": {},
   "outputs": [],
   "source": [
    "df"
   ]
  },
  {
   "cell_type": "code",
   "execution_count": null,
   "id": "d115403e",
   "metadata": {},
   "outputs": [],
   "source": [
    "df.loc['b']"
   ]
  },
  {
   "cell_type": "code",
   "execution_count": null,
   "id": "bd48b89c",
   "metadata": {},
   "outputs": [],
   "source": [
    "df= pd.DataFrame([[1.4, np.nan], [7.1, -4.5], [np.nan, np.nan], [0.75, -1.3]],\n",
    "               index=['a', 'b', 'c', 'd'],\n",
    "               columns=['one', 'two'])"
   ]
  },
  {
   "cell_type": "code",
   "execution_count": null,
   "id": "5725aa7e",
   "metadata": {},
   "outputs": [],
   "source": [
    "df"
   ]
  },
  {
   "cell_type": "code",
   "execution_count": null,
   "id": "905545bc",
   "metadata": {},
   "outputs": [],
   "source": [
    "df.sum()"
   ]
  },
  {
   "cell_type": "code",
   "execution_count": null,
   "id": "51ef4804",
   "metadata": {},
   "outputs": [],
   "source": [
    "df.sum(axis='columns')"
   ]
  },
  {
   "cell_type": "code",
   "execution_count": null,
   "id": "cd442cc9",
   "metadata": {},
   "outputs": [],
   "source": [
    "df.mean(axis='columns', skipna=False)"
   ]
  },
  {
   "cell_type": "code",
   "execution_count": null,
   "id": "99677019",
   "metadata": {},
   "outputs": [],
   "source": [
    "df.idxmax()"
   ]
  },
  {
   "cell_type": "code",
   "execution_count": null,
   "id": "c36f572d",
   "metadata": {},
   "outputs": [],
   "source": [
    "df.cumsum()"
   ]
  },
  {
   "cell_type": "code",
   "execution_count": null,
   "id": "0ef75cf4",
   "metadata": {},
   "outputs": [],
   "source": [
    "df.describe()"
   ]
  },
  {
   "cell_type": "code",
   "execution_count": null,
   "id": "14e6d9cf",
   "metadata": {},
   "outputs": [],
   "source": [
    "obj = pd.Series(['a', 'a', 'b', 'c'] * 4)"
   ]
  },
  {
   "cell_type": "code",
   "execution_count": null,
   "id": "f2ce6be9",
   "metadata": {},
   "outputs": [],
   "source": [
    "obj.describe()"
   ]
  },
  {
   "cell_type": "code",
   "execution_count": null,
   "id": "28bad230",
   "metadata": {},
   "outputs": [],
   "source": [
    "!pip install pandas-datareader\n"
   ]
  },
  {
   "cell_type": "code",
   "execution_count": null,
   "id": "38bba24c",
   "metadata": {},
   "outputs": [],
   "source": [
    "\n",
    "import pandas_datareader.data as web\n",
    "all_data= {ticker: web.get_data_yahoo(ticker)\n",
    "for ticker in ['AAPL', 'IBM', 'MSFT', 'GOOG']}"
   ]
  },
  {
   "cell_type": "code",
   "execution_count": null,
   "id": "eadc2cdc",
   "metadata": {},
   "outputs": [],
   "source": [
    "price = pd.DataFrame({ticker: data['Adj Close']\n",
    "                     for ticker, data in all_data.items()})\n"
   ]
  },
  {
   "cell_type": "code",
   "execution_count": null,
   "id": "f1eabfe6",
   "metadata": {},
   "outputs": [],
   "source": [
    "volume = pd.DataFrame({ticker: data['Volume']  for ticker, data in all_data.items()})"
   ]
  },
  {
   "cell_type": "code",
   "execution_count": null,
   "id": "12aa2c33",
   "metadata": {},
   "outputs": [],
   "source": [
    "returns =price.pct_change()"
   ]
  },
  {
   "cell_type": "code",
   "execution_count": null,
   "id": "e3546a79",
   "metadata": {},
   "outputs": [],
   "source": [
    "returns.tail()"
   ]
  },
  {
   "cell_type": "code",
   "execution_count": null,
   "id": "32f79f3f",
   "metadata": {},
   "outputs": [],
   "source": [
    "returns['MSFT'].corr(returns['IBM'])"
   ]
  },
  {
   "cell_type": "code",
   "execution_count": null,
   "id": "b6a47f18",
   "metadata": {},
   "outputs": [],
   "source": [
    " returns['MSFT'].cov(returns['IBM'])"
   ]
  },
  {
   "cell_type": "code",
   "execution_count": null,
   "id": "8107dd21",
   "metadata": {},
   "outputs": [],
   "source": [
    " returns.MSFT.corr(returns.IBM)\n",
    "    "
   ]
  },
  {
   "cell_type": "code",
   "execution_count": null,
   "id": "c36cb21a",
   "metadata": {},
   "outputs": [],
   "source": [
    "returns.corr()"
   ]
  },
  {
   "cell_type": "code",
   "execution_count": null,
   "id": "f6e1ff9b",
   "metadata": {},
   "outputs": [],
   "source": [
    "returns.cov()"
   ]
  },
  {
   "cell_type": "code",
   "execution_count": null,
   "id": "98a6a540",
   "metadata": {},
   "outputs": [],
   "source": [
    "returns.corrwith(returns.IBM)"
   ]
  },
  {
   "cell_type": "code",
   "execution_count": null,
   "id": "ff763c1c",
   "metadata": {},
   "outputs": [],
   "source": [
    "returns.corrwith(volume)"
   ]
  },
  {
   "cell_type": "code",
   "execution_count": null,
   "id": "00111cda",
   "metadata": {},
   "outputs": [],
   "source": []
  }
 ],
 "metadata": {
  "kernelspec": {
   "display_name": "Python 3 (ipykernel)",
   "language": "python",
   "name": "python3"
  },
  "language_info": {
   "codemirror_mode": {
    "name": "ipython",
    "version": 3
   },
   "file_extension": ".py",
   "mimetype": "text/x-python",
   "name": "python",
   "nbconvert_exporter": "python",
   "pygments_lexer": "ipython3",
   "version": "3.9.10"
  }
 },
 "nbformat": 4,
 "nbformat_minor": 5
}
